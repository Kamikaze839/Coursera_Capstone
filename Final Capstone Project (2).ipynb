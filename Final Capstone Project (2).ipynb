{
 "cells": [
  {
   "cell_type": "code",
   "execution_count": null,
   "id": "1870577d-4b4d-4f97-bd5a-dc845e70864e",
   "metadata": {},
   "outputs": [],
   "source": [
    "#Target City: Seattle, Washington"
   ]
  },
  {
   "cell_type": "code",
   "execution_count": null,
   "id": "23b1e6b1-a50b-4952-8c5c-19fe1bcea988",
   "metadata": {},
   "outputs": [],
   "source": [
    "#Research Question: What district in Seattle is the best place to build a Vietnamese restaurant?\n",
    "#Seattle, Washington is fairly diverse, and Asians are the second most populous race in the city, making up 15% of the population according to 2019 population estimates.\n",
    "#The purpose of this project is to investigate and determine a suitable location to build a new Vietnamese restaurant, hopefully to a more diverse customer base.\n",
    "\n",
    "#The target audience would be to Seattle residents and tourists who enjoy Vietnamese food, and for investors to use to determine if the restaurant is worth funding, and for the business owner to use to determine the location to open.\n",
    "\n",
    "#To provide the Stakeholders with the necessary information, I will use the U.S.'s 2019 population estimates (The 2021 census data is not published yet) found here: https://www.census.gov/quickfacts/fact/dashboard/seattlecitywashington/PST045219\n",
    "#There are 18 neighborhoods in Seattle: https://en.wikipedia.org/wiki/List_of_neighborhoods_in_Seattle\n",
    "#Information about the venues in Seattle will be gathered using the FourSquare API\n",
    "\n",
    "#I shall generate several maps to illustrate the current distribution of Vietnamese restaurants in Seattle as well as show income and racial demographic data to help determine where the best place to put a Vietnamese restaurant would be\n"
   ]
  },
  {
   "cell_type": "code",
   "execution_count": null,
   "id": "2be34617-290a-4ce3-955f-ed308de67126",
   "metadata": {},
   "outputs": [],
   "source": [
    "#Importing all the necessary libraries\n",
    "import numpy as np # library to handle data in a vectorized manner\n",
    "\n",
    "import pandas as pd # library for data analsysis\n",
    "pd.set_option('display.max_columns', None)\n",
    "pd.set_option('display.max_rows', None)\n",
    "\n",
    "import matplotlib.cm as cm\n",
    "import matplotlib.colors as colors\n",
    "\n",
    "import json # library to handle JSON files\n",
    "import requests\n",
    "\n",
    "!conda install -c conda-forge geopy --yes\n",
    "from geopy.geocoders import Nominatim # convert an address into latitude and longitude values\n",
    "\n",
    "from sklearn.cluster import KMeans\n",
    "\n",
    "import requests # library to handle requests\n",
    "from pandas.io.json import json_normalize # tranform JSON file into a pandas dataframe\n",
    "\n",
    "#!conda install -c conda-forge folium=0.5.0 --yes # uncomment this line if you haven't completed the Foursquare API lab\n",
    "import folium # map rendering library\n",
    "\n",
    "!wget - q -O 'seattle_zipcodes.json' https://opendata.arcgis.com/datasets/83fc2e72903343aabff6de8cb445b81c_2.geojson"
   ]
  },
  {
   "cell_type": "code",
   "execution_count": null,
   "id": "140c4019-0a87-47cc-aac2-c02f758cc642",
   "metadata": {},
   "outputs": [],
   "source": [
    "#I could not find a neat table of data that can be easily scraped to gather this info. Therefore, the dataframe has to be created manually. Some zip codes have been omitted, as the websited included zip codes for Burien and Tukilawa, WA\n",
    "data = { #data retrieved from https://www.zipdatamaps.com/zipcodes-seattle-wa\n",
    "    'Zip Code': [98101,98102,98103,98104,98105,98106,98107,98108,98109,98112,98115,98116,98117,98118,98119,98121,98122,98125,98126,98134,98136,98144,98195,98199],\n",
    "    'Latitude': [47.61143900, 47.63537000,47.67304300,47.60185300,47.66153900,47.54178100,47.66792400,47.54102400,47.63121000,47.63398200,47.68475100,47.57408300,47.68835300,47.54251500,47.63945200,47.61513000,47.61163700,47.71670300,47.54982000,47.57729200,47.53670400,47.58612200, 47.65419500,47.65170700],\n",
    "    'Longitude': [-122.33404000,-122.32368500,-122.34276600,-122.32770700,-122.28114100,-122.35297900,-122.37812500,-122.31249400,-122.34560200,-122.28824500,-122.28094200,-122.39511800,-122.38101200,-122.26900000,-122.36895400,-122.34675000,-122.29199000,-122.29726700, -122.37406600,-122.33732400,-122.39013300,-122.29278800,-122.30038400,-122.40206600],\n",
    "    'Median Income': ['$40,466', '$61,467','$68,534','$20,374','$53,688', '$53,174','$59,633','$68,210','$71,268','$89,205','$80,781','$79,020','$77,411','$58,733','$72,039','$44,991','$46,681','$55,618','$63,189','$54,646', '$79,346','$54,642','N/A','$81,257'],\n",
    "    'Population': ['10,238','20,756','45,911', '13,095','43,924','22,873','21,147', '22,374','20,175','21,077','46,206', '22,241','31,365','42,731','21,039','12,628','31,454','37,081','20,698','644', '14,770', '26,881','0','19,686']\n",
    "}    \n",
    "\n",
    "df = pd.DataFrame.from_dict(data, orient='index').transpose()\n",
    "df\n"
   ]
  },
  {
   "cell_type": "code",
   "execution_count": null,
   "id": "6c563009-57c7-4927-b490-93a2e182d28b",
   "metadata": {
    "tags": []
   },
   "outputs": [],
   "source": [
    "#Mapping the different districts of Seattle and combining it with JSON data to show district boundaries\n",
    "map_seattle = folium.Map(location=[47.6062,-122.3321],zoom_start=11)\n",
    "url = 'https://opendata.arcgis.com/datasets/83fc2e72903343aabff6de8cb445b81c_2.geojson'\n",
    "r = requests.get(url).json()\n",
    "map_seattle.choropleth(\n",
    "    geo_data=r,\n",
    "    fill_color='blue', \n",
    "    fill_opacity=0.2, \n",
    "    line_opacity=1,\n",
    "    ) #Applying the JSON overlay to show the boundaries of each zip code\n",
    "for lat,lng,zc,pop,mi in zip(df['Latitude'],df['Longitude'],df['Zip Code'],df['Population'],df['Median Income']):\n",
    "    folium.CircleMarker(\n",
    "    [lat,lng],\n",
    "    radius=5,\n",
    "    popup = \"Zip Code: \" + str(zc) + \"<br />\"+ \"Population: \" + pop + \"<br />\" + \"Median Income: \" + mi,\n",
    "    color='green',\n",
    "    fill=True,\n",
    "    fill_color='#3186cc',\n",
    "    fill_opacity=0.7,\n",
    "    parse_html=False).add_to(map_seattle) #Adding the label showing zip code, population, and median income of the district\n",
    "\n",
    "map_seattle\n",
    "#Note that while the following map highlights surrounding zip codes, the areas in Seattle proper have been labelled with a green dot"
   ]
  },
  {
   "cell_type": "code",
   "execution_count": null,
   "id": "3dae16c7-ae23-4997-94d3-71380ed90794",
   "metadata": {},
   "outputs": [],
   "source": [
    "CLIENT_ID = 'ACI3EHCUKXGHYIET5JH2KYE2ZHQEED20WFRIV2EF1IVCFKV3' \n",
    "CLIENT_SECRET = '1VD0L3I3YY0UEC4NKIW44OZTSXF5H1FTB1G5FOLZCBACRGBH' \n",
    "VERSION = '20180605' #Retrieving the FourSquare API"
   ]
  },
  {
   "cell_type": "code",
   "execution_count": null,
   "id": "ba66d6c8-9242-433d-ba56-5203016169ae",
   "metadata": {
    "tags": []
   },
   "outputs": [],
   "source": [
    "radius = 500\n",
    "LIMIT = 10000\n",
    "zipcode_latitude = df.loc[0,'Latitude']\n",
    "zipcode_longitude = df.loc[0,'Longitude']\n",
    "url = 'https://api.foursquare.com/v2/venues/explore?&client_id={}&client_secret={}&v={}&ll={},{}&radius={}&limit={}'.format(\n",
    "    CLIENT_ID, \n",
    "    CLIENT_SECRET, \n",
    "    VERSION, \n",
    "    zipcode_latitude, \n",
    "    zipcode_longitude, \n",
    "    radius, \n",
    "    LIMIT)\n",
    "url"
   ]
  },
  {
   "cell_type": "code",
   "execution_count": null,
   "id": "af674cca-2f6c-444c-a532-a9d991cee295",
   "metadata": {},
   "outputs": [],
   "source": [
    "#Generating the attraction dataframe from https://visitseattle.org/things-to-do/sightseeing/top-25-attractions/\n",
    "attraction_data = { #Some attractions were omitted due it being located outside of Seattle or not having one central location\n",
    "    'Attraction': ['Space Needle','Seattle Center Monorail','Museum of Pop Culture','Pacific Science Center','Chihuly Garden and Glass','Pacific Northwest Ballet at McCaw Hall','Pike Place Market','Seattle Art Museum','Olympic Sculpture Park','Seattle Central Library','Smith Tower','Seattle Aquarium','Seattle Great Wheel','The Museum of Flight','T Mobile Park','Lumen Field','Kerry Park','Kenmore Air','Museum of History and Industry'],\n",
    "    'Zip Code': [98109,98109,98109,98109,98109,98109,98101,98101,98101,98104,98104,98101,98101,98108,98134,98134,98119,98109,98109],\n",
    "    'Latitude': [47.6205,47.617004,47.6215,47.6190,47.6206,47.6240, 47.6097,47.6075,47.6166,47.6067,47.6019,47.6074,47.6061,47.5185,47.5914,47.5952,47.6295,47.6286,47.6275],\n",
    "    'Longitude': [-122.3493,-122.343506,-122.3481,-122.3516,-122.3504,-122.3503, -122.3422, -122.3380,-122.3553,-122.3325,-122.3319,-122.3430,-122.3425,-122.2969, -122.3325,-122.3316,-122.3599,-122.3398,-122.3366] \n",
    "}\n",
    "\n",
    "attractions = pd.DataFrame.from_dict(attraction_data)\n",
    "attractions"
   ]
  },
  {
   "cell_type": "code",
   "execution_count": null,
   "id": "25cf612e-0945-4402-ba9f-7785511731de",
   "metadata": {},
   "outputs": [],
   "source": [
    "#Adding the attractions to the existing map\n",
    "for lat,lng,name in zip(attractions['Latitude'],attractions['Longitude'],attractions['Attraction']):\n",
    "    folium.CircleMarker(\n",
    "    [lat,lng],\n",
    "    radius=4,\n",
    "    popup = name,\n",
    "    color ='white',\n",
    "    fill=True,\n",
    "    fill_color='#3186cc',\n",
    "    fill_opacity=0.7,\n",
    "    parse_html=False).add_to(map_seattle)\n",
    "    \n",
    "map_seattle"
   ]
  },
  {
   "cell_type": "code",
   "execution_count": null,
   "id": "2d5086d3-038a-4086-9dcc-3a0f193a4f7a",
   "metadata": {},
   "outputs": [],
   "source": [
    "#Creating a function to retrieve the venue list from each district using FourSquare API\n",
    "def getNearbyVenues(names, latitudes, longitudes, radius=500):\n",
    "   \n",
    "    venues_list=[]\n",
    "    for name, lat, lng in zip(names, latitudes, longitudes):\n",
    "        print(name)\n",
    "            \n",
    "        # create the API request URL\n",
    "        url = 'https://api.foursquare.com/v2/venues/explore?&client_id={}&client_secret={}&v={}&ll={},{}&radius={}&limit={}'.format(\n",
    "            CLIENT_ID, \n",
    "            CLIENT_SECRET, \n",
    "            VERSION, \n",
    "            lat, \n",
    "            lng, \n",
    "            radius, \n",
    "            LIMIT)\n",
    "            \n",
    "        # make the GET request\n",
    "        results = requests.get(url).json()[\"response\"]['groups'][0]['items']\n",
    "        \n",
    "        # return only relevant information for each nearby venue\n",
    "        venues_list.append([(\n",
    "            name, \n",
    "            lat, \n",
    "            lng, \n",
    "            v['venue']['name'], \n",
    "            v['venue']['location']['lat'], \n",
    "            v['venue']['location']['lng'],  \n",
    "            v['venue']['categories'][0]['name']) for v in results])\n",
    "\n",
    "    nearby_venues = pd.DataFrame([item for venue_list in venues_list for item in venue_list])\n",
    "    nearby_venues.columns = ['Zip Code', \n",
    "                  'Zip Code Latitude', \n",
    "                  'Zip Code Longitude', \n",
    "                  'Venue', \n",
    "                  'Venue Latitude', \n",
    "                  'Venue Longitude', \n",
    "                  'Venue Category']\n",
    "    \n",
    "    return(nearby_venues)\n",
    "url"
   ]
  },
  {
   "cell_type": "code",
   "execution_count": null,
   "id": "2e1a76f0-2a93-4f29-92eb-ad38e86bee75",
   "metadata": {},
   "outputs": [],
   "source": [
    "seattle_venues = getNearbyVenues(names=df['Zip Code'],\n",
    "                                   latitudes=df['Latitude'],\n",
    "                                   longitudes=df['Longitude']\n",
    "                                  )"
   ]
  },
  {
   "cell_type": "code",
   "execution_count": null,
   "id": "989625de-ffbc-425f-9d4f-27ed27930d4f",
   "metadata": {},
   "outputs": [],
   "source": [
    "#Creating a function to get a count of the most common venues\n",
    "def return_most_common_venues(row, num_top_venues):\n",
    "    row_categories = row.iloc[1:]\n",
    "    row_categories_sorted = row_categories.sort_values(ascending=False)\n",
    "    \n",
    "    return row_categories_sorted.index.values[0:num_top_venues]"
   ]
  },
  {
   "cell_type": "code",
   "execution_count": null,
   "id": "de07fc7a-9d4d-4e8f-a530-87e69b939f23",
   "metadata": {},
   "outputs": [],
   "source": [
    "seattle_venue_categories = seattle_venues['Venue Category']\n",
    "seattle_vietnamese_restaurant = seattle_venues[seattle_venues['Venue Category'] == 'Vietnamese Restaurant']\n",
    "print(\"FourSquare found \", seattle_venues['Venue Category'].str.count(\"Vietnamese Restaurant\").sum(), \" Vietnamese Restaurants in Seattle\")\n",
    "seattle_vietnamese_restaurant"
   ]
  },
  {
   "cell_type": "code",
   "execution_count": null,
   "id": "00a8407b-7d79-43c6-8961-e254bedb0977",
   "metadata": {
    "tags": []
   },
   "outputs": [],
   "source": [
    "for latitude,longitude,ven in zip(seattle_vietnamese_restaurant['Venue Latitude'], seattle_vietnamese_restaurant['Venue Longitude'],seattle_vietnamese_restaurant['Venue']):\n",
    "    label = '{}'.format(ven)\n",
    "    label = folium.Popup(label, parse_html=True)\n",
    "    folium.features.CircleMarker(\n",
    "        [latitude, longitude],\n",
    "        radius=5,\n",
    "        popup = label,\n",
    "        color='pink',\n",
    "        fill = True,\n",
    "        fill_color='pink',\n",
    "        fill_opacity=0.8\n",
    "    ).add_to(map_seattle)\n",
    "    \n",
    "map_seattle #Displaying all the Vietnamese restaurants in Seattle, represented by the transluscent pink markers"
   ]
  },
  {
   "cell_type": "code",
   "execution_count": null,
   "id": "0f66eaaa-ba5b-48f6-aad8-9bfbc87777e7",
   "metadata": {},
   "outputs": [],
   "source": [
    "#The eligible districts are: 98101, 98108, 98109, 98119, and 98134\n",
    "attractions.columns"
   ]
  },
  {
   "cell_type": "code",
   "execution_count": null,
   "id": "7f7a2984-cedf-49fd-8e90-0c029cb66b6c",
   "metadata": {},
   "outputs": [],
   "source": [
    "#Creating a dataframe of the 5 eligible districts. The eligible districts are considered to have at least one item from the attraction list, but does not have any Vietnamese restaurant\n",
    "common = seattle_venues[seattle_venues['Zip Code'] == 98101]\n",
    "common = common.append(seattle_venues[seattle_venues['Zip Code']==98108])\n",
    "common = common.append(seattle_venues[seattle_venues['Zip Code']==98109])\n",
    "common = common.append(seattle_venues[seattle_venues['Zip Code']==98119])\n",
    "common = common.append(seattle_venues[seattle_venues['Zip Code']==98134])\n",
    "common.head()"
   ]
  },
  {
   "cell_type": "code",
   "execution_count": null,
   "id": "f5eb3336-2af8-4a21-98bc-9fd00ebada95",
   "metadata": {},
   "outputs": [],
   "source": [
    "locexplore = getNearbyVenues(names=common['Zip Code'],\n",
    "                                   latitudes=common['Zip Code Latitude'],\n",
    "                                   longitudes=common['Zip Code Longitude']\n",
    "                                  )"
   ]
  },
  {
   "cell_type": "code",
   "execution_count": null,
   "id": "65407f2e-5ed5-4aef-89a4-0d200f16707f",
   "metadata": {},
   "outputs": [],
   "source": [
    "#getting a count of the venues within each eligible district\n",
    "locexplore= locexplore[locexplore['Venue Category']!=\"Zip Code\"]\n",
    "common_onehot = pd.get_dummies(locexplore[['Venue Category']], prefix=\"\", prefix_sep=\"\")\n",
    "common_onehot['Zip Code'] = locexplore['Zip Code']\n",
    "fixed_columns = [common_onehot.columns[-1]] + list(common_onehot.columns[:-1])\n",
    "common_onehot = common_onehot[fixed_columns]\n",
    "\n",
    "placeholder = common_onehot.pop('Zip Code')\n",
    "common_onehot.insert(0, 'Zip Code', placeholder)\n",
    "\n",
    "eligible_grouped = common_onehot.groupby('Zip Code').sum().astype(int).reset_index()\n",
    "eligible_grouped"
   ]
  },
  {
   "cell_type": "code",
   "execution_count": null,
   "id": "3b3ac5be-e853-4510-8e35-4b0a0ca00f5a",
   "metadata": {},
   "outputs": [],
   "source": [
    "#retrieving a dataframe of the top 10 most common venues within each district\n",
    "num_top_venues = 10\n",
    "\n",
    "indicators = ['st', 'nd', 'rd']\n",
    "\n",
    "# create columns according to number of top venues\n",
    "columns = ['Zip Code']\n",
    "for ind in np.arange(num_top_venues):\n",
    "    try:\n",
    "        columns.append('{}{} Most Common Venue'.format(ind+1, indicators[ind]))\n",
    "    except:\n",
    "        columns.append('{}th Most Common Venue'.format(ind+1))\n",
    "\n",
    "# create a new dataframe\n",
    "loc_venues_sorted = pd.DataFrame(columns=columns)\n",
    "loc_venues_sorted['Zip Code'] = eligible_grouped['Zip Code']\n",
    "\n",
    "for ind in np.arange(eligible_grouped.shape[0]):\n",
    "    loc_venues_sorted.iloc[ind, 1:] = return_most_common_venues(eligible_grouped.iloc[ind, :], num_top_venues)\n",
    "\n",
    "loc_venues_sorted"
   ]
  },
  {
   "cell_type": "code",
   "execution_count": null,
   "id": "b9e9f1b0-6623-4ed3-9733-f3cae0dac889",
   "metadata": {},
   "outputs": [],
   "source": [
    "#While K-means clustering proved to be unuseful in analysis, it can be used to create labels for the eligible districts on a map\n",
    "kclusters = 5\n",
    "\n",
    "eligible_cluster = eligible_grouped.drop('Zip Code', 1)\n",
    "\n",
    "kmeans = KMeans(n_clusters=kclusters, random_state=0).fit(eligible_cluster)\n",
    "kmeans.labels_[0:8] "
   ]
  },
  {
   "cell_type": "code",
   "execution_count": null,
   "id": "e2f65c2f-bfce-4046-8467-7940c455c040",
   "metadata": {},
   "outputs": [],
   "source": [
    "loc_venues_sorted.insert(0, 'Cluster Labels', kmeans.labels_)\n",
    "\n",
    "seattle_merged = common\n",
    "\n",
    "seattle_merged = seattle_merged.join(loc_venues_sorted.set_index('Zip Code'), on = 'Zip Code')\n",
    "\n",
    "seattle_merged = seattle_merged.drop(columns = ['Venue','Venue Latitude','Venue Longitude','Venue Category'])"
   ]
  },
  {
   "cell_type": "code",
   "execution_count": null,
   "id": "3aa340b2-37cf-4708-a7e4-d12969860a2d",
   "metadata": {},
   "outputs": [],
   "source": [
    "# set color scheme for the clusters\n",
    "x = np.arange(kclusters)\n",
    "ys = [i + x + (i*x)**2 for i in range(kclusters)]\n",
    "colors_array = cm.rainbow(np.linspace(0, 1, len(ys)))\n",
    "rainbow = [colors.rgb2hex(i) for i in colors_array]\n",
    "\n",
    "# add markers to the map\n",
    "markers_colors = []\n",
    "for lat, lon, poi, cluster in zip(seattle_merged['Zip Code Latitude'], seattle_merged['Zip Code Longitude'], seattle_merged['Zip Code'], seattle_merged['Cluster Labels']):\n",
    "    label = folium.Popup(str(poi) + ' Cluster ' + str(cluster), parse_html=True)\n",
    "    folium.CircleMarker(\n",
    "        [lat, lon],\n",
    "        radius= 10,\n",
    "        popup=label,\n",
    "        color=rainbow[cluster-1],\n",
    "        fill=True,\n",
    "        fill_color=rainbow[cluster-1],\n",
    "        fill_opacity=0.7).add_to(map_seattle)\n",
    "       \n",
    "map_seattle"
   ]
  },
  {
   "cell_type": "code",
   "execution_count": null,
   "id": "468983bb-2760-429c-98c8-2faa682c9360",
   "metadata": {},
   "outputs": [],
   "source": [
    "#Unfortunately, K-means clustering analyses do not reveal anything useful"
   ]
  },
  {
   "cell_type": "code",
   "execution_count": null,
   "id": "84a353d5-af67-4023-b158-3f1d434444c9",
   "metadata": {},
   "outputs": [],
   "source": [
    "#Adding final marker to indicate the best location to place a Vietnamese Restaurant\n",
    "folium.Marker(\n",
    "        [47.541, -122.312],\n",
    "        ).add_to(map_seattle)\n",
    "map_seattle"
   ]
  }
 ],
 "metadata": {
  "kernelspec": {
   "display_name": "Python",
   "language": "python",
   "name": "conda-env-python-py"
  },
  "language_info": {
   "codemirror_mode": {
    "name": "ipython",
    "version": 3
   },
   "file_extension": ".py",
   "mimetype": "text/x-python",
   "name": "python",
   "nbconvert_exporter": "python",
   "pygments_lexer": "ipython3",
   "version": "3.6.13"
  }
 },
 "nbformat": 4,
 "nbformat_minor": 5
}
