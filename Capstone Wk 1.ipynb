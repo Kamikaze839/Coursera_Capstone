{
 "cells": [
  {
   "cell_type": "code",
   "execution_count": 1,
   "id": "1870577d-4b4d-4f97-bd5a-dc845e70864e",
   "metadata": {},
   "outputs": [],
   "source": [
    "#Target City: Seattle, Washington"
   ]
  },
  {
   "cell_type": "code",
   "execution_count": 2,
   "id": "23b1e6b1-a50b-4952-8c5c-19fe1bcea988",
   "metadata": {},
   "outputs": [],
   "source": [
    "#Research Question: What district in Seattle is the best place to build a Vietnamese restaurant?\n",
    "#Seattle, Washington is fairly diverse, and Asians are the second most populous race in the city, making up 15% of the population according to 2019 population estimates.\n",
    "#The Vietnamese people make up a small portion of the Asian population in Seattle, and is sizeable enough to create a small district in Seattle known as Saigon.\n",
    "#This means a great majority of the Vietnamese restaurants in Seattle are all concentrated in that neighborhood, and there are only a handful outside of it\n",
    "#The purpose of this project is to investigate and determine a suitable location to build a new Vietnamese restaurant, hopefully to a more diverse customer base.\n",
    "\n",
    "#To provide the Stakeholders with the necessary information, I will use the U.S.'s 2019 population estimates (The 2021 census data is not published yet) found here: https://www.census.gov/quickfacts/fact/dashboard/seattlecitywashington/PST045219\n",
    "#There are 18 neighborhoods in Seattle: https://en.wikipedia.org/wiki/List_of_neighborhoods_in_Seattle\n",
    "#Information about the venues in Seattle will be gathered using the FourSquare API\n",
    "\n",
    "#I shall generate several maps to illustrate the current distribution of Vietnamese restaurants in Seattle as well as show income and racial demographic data to help determine where the best place to put a Vietnamese restaurant would be\n",
    "#Ideally, the location would be a place where there aren't many similar restaurants and in a place where retail and restaurants tend to thrive, such as a business district or major tourist area."
   ]
  },
  {
   "cell_type": "code",
   "execution_count": null,
   "id": "2be34617-290a-4ce3-955f-ed308de67126",
   "metadata": {},
   "outputs": [],
   "source": []
  },
  {
   "cell_type": "code",
   "execution_count": null,
   "id": "140c4019-0a87-47cc-aac2-c02f758cc642",
   "metadata": {},
   "outputs": [],
   "source": []
  },
  {
   "cell_type": "code",
   "execution_count": null,
   "id": "6c563009-57c7-4927-b490-93a2e182d28b",
   "metadata": {},
   "outputs": [],
   "source": []
  },
  {
   "cell_type": "code",
   "execution_count": null,
   "id": "3dae16c7-ae23-4997-94d3-71380ed90794",
   "metadata": {},
   "outputs": [],
   "source": []
  },
  {
   "cell_type": "code",
   "execution_count": null,
   "id": "ba66d6c8-9242-433d-ba56-5203016169ae",
   "metadata": {},
   "outputs": [],
   "source": []
  },
  {
   "cell_type": "code",
   "execution_count": null,
   "id": "97a27405-a585-4abc-9ab0-915097200396",
   "metadata": {},
   "outputs": [],
   "source": []
  }
 ],
 "metadata": {
  "kernelspec": {
   "display_name": "Python",
   "language": "python",
   "name": "conda-env-python-py"
  },
  "language_info": {
   "codemirror_mode": {
    "name": "ipython",
    "version": 3
   },
   "file_extension": ".py",
   "mimetype": "text/x-python",
   "name": "python",
   "nbconvert_exporter": "python",
   "pygments_lexer": "ipython3",
   "version": "3.6.13"
  }
 },
 "nbformat": 4,
 "nbformat_minor": 5
}
